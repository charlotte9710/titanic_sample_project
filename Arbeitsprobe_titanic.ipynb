{
 "cells": [
  {
   "cell_type": "markdown",
   "metadata": {},
   "source": [
    "# Imports"
   ]
  },
  {
   "cell_type": "code",
   "execution_count": 165,
   "metadata": {
    "execution": {
     "iopub.execute_input": "2025-07-06T19:49:53.918554Z",
     "iopub.status.busy": "2025-07-06T19:49:53.918188Z",
     "iopub.status.idle": "2025-07-06T19:49:53.924503Z",
     "shell.execute_reply": "2025-07-06T19:49:53.923393Z",
     "shell.execute_reply.started": "2025-07-06T19:49:53.918532Z"
    },
    "trusted": true
   },
   "outputs": [],
   "source": [
    "# importing libraries\n",
    "\n",
    "import numpy as np \n",
    "import pandas as pd \n",
    "import os\n",
    "import seaborn as sns\n",
    "import matplotlib.pyplot as plt\n",
    "import warnings\n",
    "\n",
    "import sklearn\n",
    "from sklearn import tree\n",
    "\n",
    "from sklearn.model_selection import train_test_split\n",
    "from sklearn import metrics\n",
    "from sklearn.metrics import classification_report, confusion_matrix\n",
    "from sklearn.model_selection import GridSearchCV\n",
    "from sklearn.metrics import accuracy_score\n",
    "\n",
    "import xgboost as xgb\n",
    "from catboost import CatBoostClassifier, Pool\n",
    "\n",
    "\n"
   ]
  },
  {
   "cell_type": "code",
   "execution_count": 166,
   "metadata": {
    "_cell_guid": "b1076dfc-b9ad-4769-8c92-a6c4dae69d19",
    "_uuid": "8f2839f25d086af736a60e9eeb907d3b93b6e0e5",
    "execution": {
     "iopub.execute_input": "2025-07-06T19:49:53.926290Z",
     "iopub.status.busy": "2025-07-06T19:49:53.925985Z",
     "iopub.status.idle": "2025-07-06T19:49:53.947054Z",
     "shell.execute_reply": "2025-07-06T19:49:53.946080Z",
     "shell.execute_reply.started": "2025-07-06T19:49:53.926265Z"
    },
    "trusted": true
   },
   "outputs": [
    {
     "name": "stdout",
     "output_type": "stream",
     "text": [
      "/kaggle/input/titanic/train.csv\n",
      "/kaggle/input/titanic/test.csv\n",
      "/kaggle/input/titanic/gender_submission.csv\n"
     ]
    }
   ],
   "source": [
    "# importing the data\n",
    "\n",
    "for dirname, _, filenames in os.walk('/kaggle/input'):\n",
    "    for filename in filenames:\n",
    "        print(os.path.join(dirname, filename))\n",
    "\n",
    "train = pd.read_csv('/kaggle/input/titanic/train.csv')\n",
    "test = pd.read_csv('/kaggle/input/titanic/test.csv')"
   ]
  },
  {
   "cell_type": "code",
   "execution_count": 167,
   "metadata": {
    "execution": {
     "iopub.execute_input": "2025-07-06T19:49:53.948176Z",
     "iopub.status.busy": "2025-07-06T19:49:53.947951Z",
     "iopub.status.idle": "2025-07-06T19:49:53.952647Z",
     "shell.execute_reply": "2025-07-06T19:49:53.951661Z",
     "shell.execute_reply.started": "2025-07-06T19:49:53.948158Z"
    },
    "trusted": true
   },
   "outputs": [],
   "source": [
    "warnings.filterwarnings(\"ignore\") # ignoring warnings\n",
    "np.random.seed(20) # setting a random seed for reproducability"
   ]
  },
  {
   "cell_type": "markdown",
   "metadata": {},
   "source": [
    "# Data overview and cleaning"
   ]
  },
  {
   "cell_type": "markdown",
   "metadata": {},
   "source": [
    "### Data notes:\n",
    "- embarked:\tPort of Embarkation\t(C = Cherbourg, Q = Queenstown, S = Southampton)\n",
    "- survival:\tSurvival\t(0 = No, 1 = Yes)"
   ]
  },
  {
   "cell_type": "code",
   "execution_count": 168,
   "metadata": {
    "execution": {
     "iopub.execute_input": "2025-07-06T19:49:53.955216Z",
     "iopub.status.busy": "2025-07-06T19:49:53.954894Z",
     "iopub.status.idle": "2025-07-06T19:49:53.963574Z",
     "shell.execute_reply": "2025-07-06T19:49:53.962706Z",
     "shell.execute_reply.started": "2025-07-06T19:49:53.955189Z"
    },
    "trusted": true
   },
   "outputs": [
    {
     "name": "stdout",
     "output_type": "stream",
     "text": [
      "   PassengerId  Survived  Pclass  \\\n",
      "0            1         0       3   \n",
      "1            2         1       1   \n",
      "2            3         1       3   \n",
      "3            4         1       1   \n",
      "4            5         0       3   \n",
      "\n",
      "                                                Name     Sex   Age  SibSp  \\\n",
      "0                            Braund, Mr. Owen Harris    male  22.0      1   \n",
      "1  Cumings, Mrs. John Bradley (Florence Briggs Th...  female  38.0      1   \n",
      "2                             Heikkinen, Miss. Laina  female  26.0      0   \n",
      "3       Futrelle, Mrs. Jacques Heath (Lily May Peel)  female  35.0      1   \n",
      "4                           Allen, Mr. William Henry    male  35.0      0   \n",
      "\n",
      "   Parch            Ticket     Fare Cabin Embarked  \n",
      "0      0         A/5 21171   7.2500   NaN        S  \n",
      "1      0          PC 17599  71.2833   C85        C  \n",
      "2      0  STON/O2. 3101282   7.9250   NaN        S  \n",
      "3      0            113803  53.1000  C123        S  \n",
      "4      0            373450   8.0500   NaN        S  \n"
     ]
    }
   ],
   "source": [
    "print(train.head())"
   ]
  },
  {
   "cell_type": "code",
   "execution_count": 169,
   "metadata": {
    "execution": {
     "iopub.execute_input": "2025-07-06T19:49:53.964837Z",
     "iopub.status.busy": "2025-07-06T19:49:53.964568Z",
     "iopub.status.idle": "2025-07-06T19:49:53.973440Z",
     "shell.execute_reply": "2025-07-06T19:49:53.972283Z",
     "shell.execute_reply.started": "2025-07-06T19:49:53.964806Z"
    },
    "trusted": true
   },
   "outputs": [
    {
     "name": "stdout",
     "output_type": "stream",
     "text": [
      "   PassengerId  Pclass                                          Name     Sex  \\\n",
      "0          892       3                              Kelly, Mr. James    male   \n",
      "1          893       3              Wilkes, Mrs. James (Ellen Needs)  female   \n",
      "2          894       2                     Myles, Mr. Thomas Francis    male   \n",
      "3          895       3                              Wirz, Mr. Albert    male   \n",
      "4          896       3  Hirvonen, Mrs. Alexander (Helga E Lindqvist)  female   \n",
      "\n",
      "    Age  SibSp  Parch   Ticket     Fare Cabin Embarked  \n",
      "0  34.5      0      0   330911   7.8292   NaN        Q  \n",
      "1  47.0      1      0   363272   7.0000   NaN        S  \n",
      "2  62.0      0      0   240276   9.6875   NaN        Q  \n",
      "3  27.0      0      0   315154   8.6625   NaN        S  \n",
      "4  22.0      1      1  3101298  12.2875   NaN        S  \n"
     ]
    }
   ],
   "source": [
    "print(test.head())"
   ]
  },
  {
   "cell_type": "code",
   "execution_count": 170,
   "metadata": {
    "execution": {
     "iopub.execute_input": "2025-07-06T19:49:53.974742Z",
     "iopub.status.busy": "2025-07-06T19:49:53.974439Z",
     "iopub.status.idle": "2025-07-06T19:49:53.981502Z",
     "shell.execute_reply": "2025-07-06T19:49:53.980633Z",
     "shell.execute_reply.started": "2025-07-06T19:49:53.974721Z"
    },
    "trusted": true
   },
   "outputs": [
    {
     "data": {
      "text/plain": [
       "418"
      ]
     },
     "execution_count": 170,
     "metadata": {},
     "output_type": "execute_result"
    }
   ],
   "source": [
    "# ascertaining that no passenger occurs more than one in the data\n",
    "train['PassengerId'].nunique()\n",
    "test['PassengerId'].nunique()"
   ]
  },
  {
   "cell_type": "markdown",
   "metadata": {},
   "source": [
    "- passenger id, ticket number, cabin number and name are unecessary for prediction purposes and do not add value to the data - dropping them from the list of features"
   ]
  },
  {
   "cell_type": "code",
   "execution_count": 171,
   "metadata": {
    "execution": {
     "iopub.execute_input": "2025-07-06T19:49:53.982580Z",
     "iopub.status.busy": "2025-07-06T19:49:53.982330Z",
     "iopub.status.idle": "2025-07-06T19:49:53.992594Z",
     "shell.execute_reply": "2025-07-06T19:49:53.991510Z",
     "shell.execute_reply.started": "2025-07-06T19:49:53.982562Z"
    },
    "trusted": true
   },
   "outputs": [],
   "source": [
    "features = ['Pclass','Sex','Age','SibSp','Parch','Fare','Embarked'] # list of all relevant features\n",
    "train = train[features + ['Survived']] # defining training data: relevant features and target\n",
    "train.head()\n",
    "test = test[features] # defining test data: relevant features\n",
    "test.head()\n",
    "\n",
    "test_matcher = pd.read_csv('/kaggle/input/titanic/test.csv', usecols = features + ['PassengerId']) # df to use later to match the test set predictions to the right passenger ID to upload prediciton results to kaggle\n"
   ]
  },
  {
   "cell_type": "code",
   "execution_count": 172,
   "metadata": {
    "execution": {
     "iopub.execute_input": "2025-07-06T19:49:53.993657Z",
     "iopub.status.busy": "2025-07-06T19:49:53.993419Z",
     "iopub.status.idle": "2025-07-06T19:49:54.003337Z",
     "shell.execute_reply": "2025-07-06T19:49:54.002333Z",
     "shell.execute_reply.started": "2025-07-06T19:49:53.993640Z"
    },
    "trusted": true
   },
   "outputs": [
    {
     "name": "stdout",
     "output_type": "stream",
     "text": [
      "<class 'pandas.core.frame.DataFrame'>\n",
      "RangeIndex: 891 entries, 0 to 890\n",
      "Data columns (total 8 columns):\n",
      " #   Column    Non-Null Count  Dtype  \n",
      "---  ------    --------------  -----  \n",
      " 0   Pclass    891 non-null    int64  \n",
      " 1   Sex       891 non-null    object \n",
      " 2   Age       714 non-null    float64\n",
      " 3   SibSp     891 non-null    int64  \n",
      " 4   Parch     891 non-null    int64  \n",
      " 5   Fare      891 non-null    float64\n",
      " 6   Embarked  889 non-null    object \n",
      " 7   Survived  891 non-null    int64  \n",
      "dtypes: float64(2), int64(4), object(2)\n",
      "memory usage: 55.8+ KB\n"
     ]
    }
   ],
   "source": [
    "train.info()"
   ]
  },
  {
   "cell_type": "markdown",
   "metadata": {},
   "source": [
    "- data contains 891 passengers\n",
    "- columns Age, and Embarked contain missing values\n",
    "- dataset consists mostly of integers; Age and Fare are float variables"
   ]
  },
  {
   "cell_type": "code",
   "execution_count": 173,
   "metadata": {
    "execution": {
     "iopub.execute_input": "2025-07-06T19:49:54.004844Z",
     "iopub.status.busy": "2025-07-06T19:49:54.004500Z",
     "iopub.status.idle": "2025-07-06T19:49:54.014885Z",
     "shell.execute_reply": "2025-07-06T19:49:54.014013Z",
     "shell.execute_reply.started": "2025-07-06T19:49:54.004813Z"
    },
    "trusted": true
   },
   "outputs": [
    {
     "name": "stdout",
     "output_type": "stream",
     "text": [
      "<class 'pandas.core.frame.DataFrame'>\n",
      "RangeIndex: 418 entries, 0 to 417\n",
      "Data columns (total 7 columns):\n",
      " #   Column    Non-Null Count  Dtype  \n",
      "---  ------    --------------  -----  \n",
      " 0   Pclass    418 non-null    int64  \n",
      " 1   Sex       418 non-null    object \n",
      " 2   Age       332 non-null    float64\n",
      " 3   SibSp     418 non-null    int64  \n",
      " 4   Parch     418 non-null    int64  \n",
      " 5   Fare      417 non-null    float64\n",
      " 6   Embarked  418 non-null    object \n",
      "dtypes: float64(2), int64(3), object(2)\n",
      "memory usage: 23.0+ KB\n"
     ]
    }
   ],
   "source": [
    "test.info()"
   ]
  },
  {
   "cell_type": "markdown",
   "metadata": {},
   "source": [
    "- test data contains 418 passengers\n",
    "- columns age and fare contain missing values"
   ]
  },
  {
   "cell_type": "markdown",
   "metadata": {},
   "source": [
    "# Exploratory Data Analysis"
   ]
  },
  {
   "cell_type": "markdown",
   "metadata": {},
   "source": [
    "concentrating on the training data for the exploratory analysis"
   ]
  },
  {
   "cell_type": "code",
   "execution_count": 174,
   "metadata": {
    "execution": {
     "iopub.execute_input": "2025-07-06T19:49:54.017258Z",
     "iopub.status.busy": "2025-07-06T19:49:54.017017Z",
     "iopub.status.idle": "2025-07-06T19:49:54.041203Z",
     "shell.execute_reply": "2025-07-06T19:49:54.040147Z",
     "shell.execute_reply.started": "2025-07-06T19:49:54.017240Z"
    },
    "trusted": true
   },
   "outputs": [
    {
     "name": "stdout",
     "output_type": "stream",
     "text": [
      "          count unique   top freq       mean        std   min     25%  \\\n",
      "Pclass    891.0    NaN   NaN  NaN   2.308642   0.836071   1.0     2.0   \n",
      "Sex         891      2  male  577        NaN        NaN   NaN     NaN   \n",
      "Age       714.0    NaN   NaN  NaN  29.699118  14.526497  0.42  20.125   \n",
      "SibSp     891.0    NaN   NaN  NaN   0.523008   1.102743   0.0     0.0   \n",
      "Parch     891.0    NaN   NaN  NaN   0.381594   0.806057   0.0     0.0   \n",
      "Fare      891.0    NaN   NaN  NaN  32.204208  49.693429   0.0  7.9104   \n",
      "Embarked    889      3     S  644        NaN        NaN   NaN     NaN   \n",
      "Survived  891.0    NaN   NaN  NaN   0.383838   0.486592   0.0     0.0   \n",
      "\n",
      "              50%   75%       max  \n",
      "Pclass        3.0   3.0       3.0  \n",
      "Sex           NaN   NaN       NaN  \n",
      "Age          28.0  38.0      80.0  \n",
      "SibSp         0.0   1.0       8.0  \n",
      "Parch         0.0   0.0       6.0  \n",
      "Fare      14.4542  31.0  512.3292  \n",
      "Embarked      NaN   NaN       NaN  \n",
      "Survived      0.0   1.0       1.0  \n"
     ]
    }
   ],
   "source": [
    "print(train.describe(include = 'all').transpose())"
   ]
  },
  {
   "cell_type": "markdown",
   "metadata": {},
   "source": [
    "- mean of survived smaller than 0.5 - most passengers did not survive\n",
    "- mean age was about 29.7, the youngest passenger was less than a year old, the oldest passenger was 80\n",
    "- mean fare was 32.2 pounds"
   ]
  },
  {
   "cell_type": "markdown",
   "metadata": {},
   "source": [
    "## Univariate analysis of categorical features"
   ]
  },
  {
   "cell_type": "code",
   "execution_count": 175,
   "metadata": {
    "execution": {
     "iopub.execute_input": "2025-07-06T19:49:54.043325Z",
     "iopub.status.busy": "2025-07-06T19:49:54.042515Z",
     "iopub.status.idle": "2025-07-06T19:49:54.047051Z",
     "shell.execute_reply": "2025-07-06T19:49:54.046141Z",
     "shell.execute_reply.started": "2025-07-06T19:49:54.043290Z"
    },
    "trusted": true
   },
   "outputs": [],
   "source": [
    "categorical_features = ['Pclass','Sex','Embarked'] # defining list of categorical features"
   ]
  },
  {
   "cell_type": "markdown",
   "metadata": {},
   "source": [
    "#### Creating a function for plots:"
   ]
  },
  {
   "cell_type": "code",
   "execution_count": 176,
   "metadata": {
    "execution": {
     "iopub.execute_input": "2025-07-06T19:49:54.054005Z",
     "iopub.status.busy": "2025-07-06T19:49:54.053562Z",
     "iopub.status.idle": "2025-07-06T19:49:54.061173Z",
     "shell.execute_reply": "2025-07-06T19:49:54.060142Z",
     "shell.execute_reply.started": "2025-07-06T19:49:54.053953Z"
    },
    "trusted": true
   },
   "outputs": [],
   "source": [
    "def CreateCountplot(variable):\n",
    "    total = len(train) # count of all passengers to use for percentages later\n",
    "    ax = sns.countplot(y=variable, data=train, palette=\"twilight\",order=train[variable].value_counts().index) # defining the countplot, setting a palette, sorting by number of passengers\n",
    "    for p in ax.patches:\n",
    "        pct = 100 * p.get_width() / total # defining the percentages\n",
    "        ax.text(p.get_width() + 1, p.get_y() + p.get_height()/2, \n",
    "                f\"{p.get_width():,.0f} ({pct:.1f}%)\",verticalalignment='center') # defining position of annotations\n",
    "    plt.title(\"number of passengers by {} : absolute and % share\".format(variable)) # defining a title\n",
    "    plt.show()"
   ]
  },
  {
   "cell_type": "markdown",
   "metadata": {},
   "source": [
    "#### Using the function on all categorical variables:"
   ]
  },
  {
   "cell_type": "code",
   "execution_count": 177,
   "metadata": {
    "execution": {
     "iopub.execute_input": "2025-07-06T19:49:54.063263Z",
     "iopub.status.busy": "2025-07-06T19:49:54.062912Z",
     "iopub.status.idle": "2025-07-06T19:49:54.451748Z",
     "shell.execute_reply": "2025-07-06T19:49:54.450714Z",
     "shell.execute_reply.started": "2025-07-06T19:49:54.063235Z"
    },
    "trusted": true
   },
   "outputs": [
    {
     "data": {
      "image/png": "[encoded data removed]",
      "text/plain": [
       "<Figure size 640x480 with 1 Axes>"
      ]
     },
     "metadata": {},
     "output_type": "display_data"
    },
    {
     "data": {
      "image/png": "[encoded data removed]",
      "text/plain": [
       "<Figure size 640x480 with 1 Axes>"
      ]
     },
     "metadata": {},
     "output_type": "display_data"
    },
    {
     "data": {
      "image/png": "[encoded data removed]",
      "text/plain": [
       "<Figure size 640x480 with 1 Axes>"
      ]
     },
     "metadata": {},
     "output_type": "display_data"
    }
   ],
   "source": [
    "for feature in categorical_features:\n",
    "    CreateCountplot(feature)"
   ]
  },
  {
   "cell_type": "markdown",
   "metadata": {},
   "source": [
    "- most passengers were in class 3, least in class 2\n",
    "- 65 % of passengers were male\n",
    "- 72% passengers embarked in Southhampton, 19% embarked in Cherbourg and only around 9% in Queenstown"
   ]
  },
  {
   "cell_type": "markdown",
   "metadata": {},
   "source": [
    "## Univariate Analysis of Numerical Features"
   ]
  },
  {
   "cell_type": "code",
   "execution_count": 178,
   "metadata": {
    "execution": {
     "iopub.execute_input": "2025-07-06T19:49:54.453049Z",
     "iopub.status.busy": "2025-07-06T19:49:54.452688Z",
     "iopub.status.idle": "2025-07-06T19:49:54.465616Z",
     "shell.execute_reply": "2025-07-06T19:49:54.464522Z",
     "shell.execute_reply.started": "2025-07-06T19:49:54.453026Z"
    },
    "trusted": true
   },
   "outputs": [
    {
     "name": "stdout",
     "output_type": "stream",
     "text": [
      "<class 'pandas.core.frame.DataFrame'>\n",
      "Index: 714 entries, 0 to 890\n",
      "Data columns (total 4 columns):\n",
      " #   Column  Non-Null Count  Dtype  \n",
      "---  ------  --------------  -----  \n",
      " 0   Age     714 non-null    float64\n",
      " 1   SibSp   714 non-null    int64  \n",
      " 2   Parch   714 non-null    int64  \n",
      " 3   Fare    714 non-null    float64\n",
      "dtypes: float64(2), int64(2)\n",
      "memory usage: 27.9 KB\n"
     ]
    }
   ],
   "source": [
    "numerical_features = train[['Age','SibSp','Parch','Fare']].dropna() # making a df of all numerical variables and dropping missing values\n",
    "numerical_features.info()"
   ]
  },
  {
   "cell_type": "markdown",
   "metadata": {},
   "source": [
    "#### Creating a function for plots:"
   ]
  },
  {
   "cell_type": "code",
   "execution_count": null,
   "metadata": {
    "execution": {
     "iopub.execute_input": "2025-07-06T19:49:54.467794Z",
     "iopub.status.busy": "2025-07-06T19:49:54.467539Z",
     "iopub.status.idle": "2025-07-06T19:49:54.473826Z",
     "shell.execute_reply": "2025-07-06T19:49:54.472864Z",
     "shell.execute_reply.started": "2025-07-06T19:49:54.467776Z"
    },
    "trusted": true
   },
   "outputs": [],
   "source": [
    "quantiles = ['25%','50%', '75%'] # defining the quantiles for the histogram\n",
    "colors = ['green', 'red', 'blue'] # defining the colors for the quantiles\n",
    "\n",
    "def HistogramBoxplot(variable):\n",
    "    fig, axes = plt.subplots(1, 2, figsize=(15, 5)) # defining a plotgrid for the subplots\n",
    "    axes = axes.flatten() # flattening the axes to make indexing easier\n",
    "\n",
    "    #for i, col in enumerate(numerical_features.columns): # enumerating over the numerical columns\n",
    "    ax_histogram = axes[0] # placing the histogram in the first plot\n",
    "    sns.histplot(data=numerical_features, x=variable, ax= ax_histogram, kde=True) # defining the histogram including the kde line\n",
    "    desc = numerical_features[variable].describe() # getting the stats for each column including the quartiles\n",
    "        #print(desc)\n",
    "    for j, q in enumerate(quantiles): \n",
    "        ax_histogram.axvline(desc[q], color=colors[j]) # adding the colored lines for the 25th, 50th and 75th quartile\n",
    "\n",
    "\n",
    "    ax_boxplot = axes[1] # placing the boxplots next to the corresponding histogram\n",
    "    sns.boxplot(ax=ax_boxplot, data=numerical_features, x=variable, color = 'lightblue') # creating the boxplots for all the numerical variables"
   ]
  },
  {
   "cell_type": "code",
   "execution_count": 180,
   "metadata": {
    "execution": {
     "iopub.execute_input": "2025-07-06T19:49:54.474862Z",
     "iopub.status.busy": "2025-07-06T19:49:54.474645Z",
     "iopub.status.idle": "2025-07-06T19:49:54.845538Z",
     "shell.execute_reply": "2025-07-06T19:49:54.844712Z",
     "shell.execute_reply.started": "2025-07-06T19:49:54.474844Z"
    },
    "trusted": true
   },
   "outputs": [
    {
     "data": {
      "image/png": "[encoded data removed]",
      "text/plain": [
       "<Figure size 1500x500 with 2 Axes>"
      ]
     },
     "metadata": {},
     "output_type": "display_data"
    }
   ],
   "source": [
    "HistogramBoxplot('Age')"
   ]
  },
  {
   "cell_type": "markdown",
   "metadata": {},
   "source": [
    "- age is slightly right skewed: most passengers are between 20 and 40 but there are some passengers that are up to 80 years old\n",
    "- boxplot shows the few passengers over 65 as outliers"
   ]
  },
  {
   "cell_type": "code",
   "execution_count": 181,
   "metadata": {
    "execution": {
     "iopub.execute_input": "2025-07-06T19:49:54.846742Z",
     "iopub.status.busy": "2025-07-06T19:49:54.846508Z",
     "iopub.status.idle": "2025-07-06T19:49:55.195698Z",
     "shell.execute_reply": "2025-07-06T19:49:55.194808Z",
     "shell.execute_reply.started": "2025-07-06T19:49:54.846725Z"
    },
    "trusted": true
   },
   "outputs": [
    {
     "data": {
      "image/png": "[encoded data removed]",
      "text/plain": [
       "<Figure size 1500x500 with 2 Axes>"
      ]
     },
     "metadata": {},
     "output_type": "display_data"
    }
   ],
   "source": [
    "HistogramBoxplot('SibSp')"
   ]
  },
  {
   "cell_type": "markdown",
   "metadata": {},
   "source": [
    "- most passengers did not bring any spouses or siblings on board, the 75% is at one spouse / sibling all values above 2 spouses/siblings are considered outliers"
   ]
  },
  {
   "cell_type": "code",
   "execution_count": 182,
   "metadata": {
    "execution": {
     "iopub.execute_input": "2025-07-06T19:49:55.197230Z",
     "iopub.status.busy": "2025-07-06T19:49:55.196883Z",
     "iopub.status.idle": "2025-07-06T19:49:55.552582Z",
     "shell.execute_reply": "2025-07-06T19:49:55.551379Z",
     "shell.execute_reply.started": "2025-07-06T19:49:55.197202Z"
    },
    "trusted": true
   },
   "outputs": [
    {
     "data": {
      "image/png": "[encoded data removed]",
      "text/plain": [
       "<Figure size 1500x500 with 2 Axes>"
      ]
     },
     "metadata": {},
     "output_type": "display_data"
    }
   ],
   "source": [
    "HistogramBoxplot('Parch')"
   ]
  },
  {
   "cell_type": "markdown",
   "metadata": {},
   "source": [
    "- most passengers were not accompanied by parents or children either, all passengers that had 3 or more parents or children with them are considered as outliers"
   ]
  },
  {
   "cell_type": "code",
   "execution_count": 183,
   "metadata": {
    "execution": {
     "iopub.execute_input": "2025-07-06T19:49:55.553934Z",
     "iopub.status.busy": "2025-07-06T19:49:55.553540Z",
     "iopub.status.idle": "2025-07-06T19:49:55.985324Z",
     "shell.execute_reply": "2025-07-06T19:49:55.984160Z",
     "shell.execute_reply.started": "2025-07-06T19:49:55.553899Z"
    },
    "trusted": true
   },
   "outputs": [
    {
     "data": {
      "image/png": "[encoded data removed]",
      "text/plain": [
       "<Figure size 1500x500 with 2 Axes>"
      ]
     },
     "metadata": {},
     "output_type": "display_data"
    }
   ],
   "source": [
    "HistogramBoxplot('Fare')"
   ]
  },
  {
   "cell_type": "markdown",
   "metadata": {},
   "source": [
    "- fare is relatively under 50 pounds for most passengers but goes up to 300 pounds for some and up to 500 pounds for 1 passenger\n",
    "- distribution is right skewed with a long right tail"
   ]
  },
  {
   "cell_type": "markdown",
   "metadata": {},
   "source": [
    "## Multivariate analysis: Numerical features"
   ]
  },
  {
   "cell_type": "code",
   "execution_count": 184,
   "metadata": {
    "execution": {
     "iopub.execute_input": "2025-07-06T19:49:55.986970Z",
     "iopub.status.busy": "2025-07-06T19:49:55.986655Z",
     "iopub.status.idle": "2025-07-06T19:49:56.223717Z",
     "shell.execute_reply": "2025-07-06T19:49:56.222568Z",
     "shell.execute_reply.started": "2025-07-06T19:49:55.986949Z"
    },
    "trusted": true
   },
   "outputs": [
    {
     "data": {
      "text/plain": [
       "<Axes: >"
      ]
     },
     "execution_count": 184,
     "metadata": {},
     "output_type": "execute_result"
    },
    {
     "data": {
      "image/png": "[encoded data removed]",
      "text/plain": [
       "<Figure size 640x480 with 2 Axes>"
      ]
     },
     "metadata": {},
     "output_type": "display_data"
    }
   ],
   "source": [
    "corr = numerical_features.corr() # calculating correlation of all numerical variables\n",
    "sns.heatmap(corr, annot = True) # printing a heatmap of the correlation matrix"
   ]
  },
  {
   "cell_type": "markdown",
   "metadata": {},
   "source": [
    "- there is some positive correlation between number of siblings/spouses and number of parents/children brought on board (0.38)\n",
    "- the correlation between number of siblings / spouses brought and age is negative but not very strong as well (- 0.31)\n",
    "- correlation between other numberical variables is below 30 % "
   ]
  },
  {
   "cell_type": "markdown",
   "metadata": {},
   "source": [
    "# Preparing data for model training"
   ]
  },
  {
   "cell_type": "markdown",
   "metadata": {},
   "source": [
    "### Encoding object data types (text) into numbers to use in training"
   ]
  },
  {
   "cell_type": "code",
   "execution_count": 185,
   "metadata": {
    "execution": {
     "iopub.execute_input": "2025-07-06T19:49:56.227535Z",
     "iopub.status.busy": "2025-07-06T19:49:56.227164Z",
     "iopub.status.idle": "2025-07-06T19:49:56.238562Z",
     "shell.execute_reply": "2025-07-06T19:49:56.237548Z",
     "shell.execute_reply.started": "2025-07-06T19:49:56.227510Z"
    },
    "trusted": true
   },
   "outputs": [],
   "source": [
    "train['Sex'] = train['Sex'].map({'male': 0, 'female': 1}).astype(float)\n",
    "test['Sex'] = test['Sex'].map({'male': 0, 'female': 1}).astype(float)\n",
    "\n",
    "#C = Cherbourg, Q = Queenstown, S = Southampton\n",
    "train['Embarked'] = train['Embarked'].map({'C': 0, 'Q': 1,'S': 2}).astype(float)\n",
    "test['Embarked'] = test['Embarked'].map({'C': 0, 'Q': 1,'S': 2}).astype(float)"
   ]
  },
  {
   "cell_type": "markdown",
   "metadata": {},
   "source": [
    "### Dropping Null values"
   ]
  },
  {
   "cell_type": "code",
   "execution_count": 186,
   "metadata": {
    "execution": {
     "iopub.execute_input": "2025-07-06T19:49:56.240726Z",
     "iopub.status.busy": "2025-07-06T19:49:56.240409Z",
     "iopub.status.idle": "2025-07-06T19:49:56.248273Z",
     "shell.execute_reply": "2025-07-06T19:49:56.247131Z",
     "shell.execute_reply.started": "2025-07-06T19:49:56.240706Z"
    },
    "trusted": true
   },
   "outputs": [
    {
     "data": {
      "text/plain": [
       "Pclass        0\n",
       "Sex           0\n",
       "Age         177\n",
       "SibSp         0\n",
       "Parch         0\n",
       "Fare          0\n",
       "Embarked      2\n",
       "Survived      0\n",
       "dtype: int64"
      ]
     },
     "execution_count": 186,
     "metadata": {},
     "output_type": "execute_result"
    }
   ],
   "source": [
    "train.isnull().sum()"
   ]
  },
  {
   "cell_type": "code",
   "execution_count": 187,
   "metadata": {
    "execution": {
     "iopub.execute_input": "2025-07-06T19:49:56.249593Z",
     "iopub.status.busy": "2025-07-06T19:49:56.249288Z",
     "iopub.status.idle": "2025-07-06T19:49:56.259816Z",
     "shell.execute_reply": "2025-07-06T19:49:56.258939Z",
     "shell.execute_reply.started": "2025-07-06T19:49:56.249573Z"
    },
    "trusted": true
   },
   "outputs": [
    {
     "data": {
      "text/plain": [
       "Pclass      0\n",
       "Sex         0\n",
       "Age         0\n",
       "SibSp       0\n",
       "Parch       0\n",
       "Fare        0\n",
       "Embarked    0\n",
       "Survived    0\n",
       "dtype: int64"
      ]
     },
     "execution_count": 187,
     "metadata": {},
     "output_type": "execute_result"
    }
   ],
   "source": [
    "train = train.dropna()\n",
    "train.isnull().sum()"
   ]
  },
  {
   "cell_type": "markdown",
   "metadata": {},
   "source": [
    "### Splitting the training data into features and target"
   ]
  },
  {
   "cell_type": "code",
   "execution_count": 188,
   "metadata": {
    "execution": {
     "iopub.execute_input": "2025-07-06T19:49:56.261053Z",
     "iopub.status.busy": "2025-07-06T19:49:56.260827Z",
     "iopub.status.idle": "2025-07-06T19:49:56.266508Z",
     "shell.execute_reply": "2025-07-06T19:49:56.265502Z",
     "shell.execute_reply.started": "2025-07-06T19:49:56.261036Z"
    },
    "trusted": true
   },
   "outputs": [],
   "source": [
    "x = train.drop('Survived', axis = 1)\n",
    "y = train['Survived']"
   ]
  },
  {
   "cell_type": "markdown",
   "metadata": {},
   "source": [
    "### splitting the data into training and validation data to be able to evaluate the models as I build them"
   ]
  },
  {
   "cell_type": "code",
   "execution_count": 189,
   "metadata": {
    "execution": {
     "iopub.execute_input": "2025-07-06T19:49:56.267852Z",
     "iopub.status.busy": "2025-07-06T19:49:56.267589Z",
     "iopub.status.idle": "2025-07-06T19:49:56.274725Z",
     "shell.execute_reply": "2025-07-06T19:49:56.273666Z",
     "shell.execute_reply.started": "2025-07-06T19:49:56.267832Z"
    },
    "trusted": true
   },
   "outputs": [],
   "source": [
    "x_train, x_val, y_train, y_val = train_test_split(x,y, test_size = 0.2)"
   ]
  },
  {
   "cell_type": "code",
   "execution_count": 190,
   "metadata": {
    "execution": {
     "iopub.execute_input": "2025-07-06T19:49:56.275858Z",
     "iopub.status.busy": "2025-07-06T19:49:56.275634Z",
     "iopub.status.idle": "2025-07-06T19:49:56.286650Z",
     "shell.execute_reply": "2025-07-06T19:49:56.285591Z",
     "shell.execute_reply.started": "2025-07-06T19:49:56.275840Z"
    },
    "trusted": true
   },
   "outputs": [
    {
     "name": "stdout",
     "output_type": "stream",
     "text": [
      "<class 'pandas.core.series.Series'>\n",
      "Index: 569 entries, 636 to 443\n",
      "Series name: Survived\n",
      "Non-Null Count  Dtype\n",
      "--------------  -----\n",
      "569 non-null    int64\n",
      "dtypes: int64(1)\n",
      "memory usage: 8.9 KB\n",
      "None\n",
      "------------------------------\n",
      "<class 'pandas.core.series.Series'>\n",
      "Index: 143 entries, 374 to 216\n",
      "Series name: Survived\n",
      "Non-Null Count  Dtype\n",
      "--------------  -----\n",
      "143 non-null    int64\n",
      "dtypes: int64(1)\n",
      "memory usage: 2.2 KB\n",
      "None\n"
     ]
    }
   ],
   "source": [
    "print(y_train.info())\n",
    "print('-'*30)\n",
    "print(y_val.info())"
   ]
  },
  {
   "cell_type": "markdown",
   "metadata": {},
   "source": [
    "- the validation set is relatively small (143 entries) but still large enough to evaluate performance during model building"
   ]
  },
  {
   "cell_type": "code",
   "execution_count": 191,
   "metadata": {
    "execution": {
     "iopub.execute_input": "2025-07-06T19:49:56.287890Z",
     "iopub.status.busy": "2025-07-06T19:49:56.287683Z",
     "iopub.status.idle": "2025-07-06T19:49:56.291469Z",
     "shell.execute_reply": "2025-07-06T19:49:56.290656Z",
     "shell.execute_reply.started": "2025-07-06T19:49:56.287875Z"
    },
    "trusted": true
   },
   "outputs": [],
   "source": [
    "### Defining a function to show a confusion matrix as well as the classification report for different models"
   ]
  },
  {
   "cell_type": "code",
   "execution_count": 192,
   "metadata": {
    "execution": {
     "iopub.execute_input": "2025-07-06T19:49:56.292508Z",
     "iopub.status.busy": "2025-07-06T19:49:56.292294Z",
     "iopub.status.idle": "2025-07-06T19:49:56.297234Z",
     "shell.execute_reply": "2025-07-06T19:49:56.296180Z",
     "shell.execute_reply.started": "2025-07-06T19:49:56.292493Z"
    },
    "trusted": true
   },
   "outputs": [],
   "source": [
    "def confusion_classification(Truth,Predicted):\n",
    "    print(classification_report(Truth, Predicted))\n",
    "    cm = confusion_matrix(Truth, Predicted)\n",
    "    #plt.figure()\n",
    "    sns.heatmap(cm, annot = True, fmt = '.0f')\n",
    "    plt.ylabel('True Label')\n",
    "    plt.xlabel('Predicted Label')\n",
    "    plt.show()"
   ]
  },
  {
   "cell_type": "markdown",
   "metadata": {},
   "source": [
    "## Building and tuning a simple tree"
   ]
  },
  {
   "cell_type": "markdown",
   "metadata": {},
   "source": [
    "- using Grid Search to find optimal hyperparameters for DecisionTreeClassifier\n",
    "- iterating over:\n",
    "- max tree depth: experimenting with values btw. 1 and 10\n",
    "- min number of samples per leaf: experimenting with values btw. 2 and 20"
   ]
  },
  {
   "cell_type": "code",
   "execution_count": 193,
   "metadata": {
    "execution": {
     "iopub.execute_input": "2025-07-06T19:49:56.298419Z",
     "iopub.status.busy": "2025-07-06T19:49:56.298168Z",
     "iopub.status.idle": "2025-07-06T19:49:57.431748Z",
     "shell.execute_reply": "2025-07-06T19:49:57.430836Z",
     "shell.execute_reply.started": "2025-07-06T19:49:56.298402Z"
    },
    "trusted": true
   },
   "outputs": [
    {
     "data": {
      "text/html": [
       "<style>#sk-container-id-4 {color: black;background-color: white;}#sk-container-id-4 pre{padding: 0;}#sk-container-id-4 div.sk-toggleable {background-color: white;}#sk-container-id-4 label.sk-toggleable__label {cursor: pointer;display: block;width: 100%;margin-bottom: 0;padding: 0.3em;box-sizing: border-box;text-align: center;}#sk-container-id-4 label.sk-toggleable__label-arrow:before {content: \"▸\";float: left;margin-right: 0.25em;color: #696969;}#sk-container-id-4 label.sk-toggleable__label-arrow:hover:before {color: black;}#sk-container-id-4 div.sk-estimator:hover label.sk-toggleable__label-arrow:before {color: black;}#sk-container-id-4 div.sk-toggleable__content {max-height: 0;max-width: 0;overflow: hidden;text-align: left;background-color: #f0f8ff;}#sk-container-id-4 div.sk-toggleable__content pre {margin: 0.2em;color: black;border-radius: 0.25em;background-color: #f0f8ff;}#sk-container-id-4 input.sk-toggleable__control:checked~div.sk-toggleable__content {max-height: 200px;max-width: 100%;overflow: auto;}#sk-container-id-4 input.sk-toggleable__control:checked~label.sk-toggleable__label-arrow:before {content: \"▾\";}#sk-container-id-4 div.sk-estimator input.sk-toggleable__control:checked~label.sk-toggleable__label {background-color: #d4ebff;}#sk-container-id-4 div.sk-label input.sk-toggleable__control:checked~label.sk-toggleable__label {background-color: #d4ebff;}#sk-container-id-4 input.sk-hidden--visually {border: 0;clip: rect(1px 1px 1px 1px);clip: rect(1px, 1px, 1px, 1px);height: 1px;margin: -1px;overflow: hidden;padding: 0;position: absolute;width: 1px;}#sk-container-id-4 div.sk-estimator {font-family: monospace;background-color: #f0f8ff;border: 1px dotted black;border-radius: 0.25em;box-sizing: border-box;margin-bottom: 0.5em;}#sk-container-id-4 div.sk-estimator:hover {background-color: #d4ebff;}#sk-container-id-4 div.sk-parallel-item::after {content: \"\";width: 100%;border-bottom: 1px solid gray;flex-grow: 1;}#sk-container-id-4 div.sk-label:hover label.sk-toggleable__label {background-color: #d4ebff;}#sk-container-id-4 div.sk-serial::before {content: \"\";position: absolute;border-left: 1px solid gray;box-sizing: border-box;top: 0;bottom: 0;left: 50%;z-index: 0;}#sk-container-id-4 div.sk-serial {display: flex;flex-direction: column;align-items: center;background-color: white;padding-right: 0.2em;padding-left: 0.2em;position: relative;}#sk-container-id-4 div.sk-item {position: relative;z-index: 1;}#sk-container-id-4 div.sk-parallel {display: flex;align-items: stretch;justify-content: center;background-color: white;position: relative;}#sk-container-id-4 div.sk-item::before, #sk-container-id-4 div.sk-parallel-item::before {content: \"\";position: absolute;border-left: 1px solid gray;box-sizing: border-box;top: 0;bottom: 0;left: 50%;z-index: -1;}#sk-container-id-4 div.sk-parallel-item {display: flex;flex-direction: column;z-index: 1;position: relative;background-color: white;}#sk-container-id-4 div.sk-parallel-item:first-child::after {align-self: flex-end;width: 50%;}#sk-container-id-4 div.sk-parallel-item:last-child::after {align-self: flex-start;width: 50%;}#sk-container-id-4 div.sk-parallel-item:only-child::after {width: 0;}#sk-container-id-4 div.sk-dashed-wrapped {border: 1px dashed gray;margin: 0 0.4em 0.5em 0.4em;box-sizing: border-box;padding-bottom: 0.4em;background-color: white;}#sk-container-id-4 div.sk-label label {font-family: monospace;font-weight: bold;display: inline-block;line-height: 1.2em;}#sk-container-id-4 div.sk-label-container {text-align: center;}#sk-container-id-4 div.sk-container {/* jupyter's `normalize.less` sets `[hidden] { display: none; }` but bootstrap.min.css set `[hidden] { display: none !important; }` so we also need the `!important` here to be able to override the default hidden behavior on the sphinx rendered scikit-learn.org. See: https://github.com/scikit-learn/scikit-learn/issues/21755 */display: inline-block !important;position: relative;}#sk-container-id-4 div.sk-text-repr-fallback {display: none;}</style><div id=\"sk-container-id-4\" class=\"sk-top-container\"><div class=\"sk-text-repr-fallback\"><pre>DecisionTreeClassifier(max_depth=3, min_samples_leaf=3)</pre><b>In a Jupyter environment, please rerun this cell to show the HTML representation or trust the notebook. <br />On GitHub, the HTML representation is unable to render, please try loading this page with nbviewer.org.</b></div><div class=\"sk-container\" hidden><div class=\"sk-item\"><div class=\"sk-estimator sk-toggleable\"><input class=\"sk-toggleable__control sk-hidden--visually\" id=\"sk-estimator-id-4\" type=\"checkbox\" checked><label for=\"sk-estimator-id-4\" class=\"sk-toggleable__label sk-toggleable__label-arrow\">DecisionTreeClassifier</label><div class=\"sk-toggleable__content\"><pre>DecisionTreeClassifier(max_depth=3, min_samples_leaf=3)</pre></div></div></div></div></div>"
      ],
      "text/plain": [
       "DecisionTreeClassifier(max_depth=3, min_samples_leaf=3)"
      ]
     },
     "execution_count": 193,
     "metadata": {},
     "output_type": "execute_result"
    }
   ],
   "source": [
    "tree1 = tree.DecisionTreeClassifier() # initializing the decision tree model\n",
    "\n",
    "param_grid = {#'criterion': ['gini','entropy','log_loss'], # setting the parameter grid\n",
    "             'max_depth': np.arange(1,10),\n",
    "             'min_samples_leaf': [2,3,5,10,15,20]\n",
    "             }\n",
    "\n",
    "gridcv = GridSearchCV(tree1, param_grid, scoring = 'accuracy')  # choosing accuracy as the scoring metric\n",
    "\n",
    "gridcv = gridcv.fit(x_train, y_train) # fitting the grid search on the train data\n",
    "\n",
    "tree1_best_estimator = gridcv.best_estimator_  # saving the best estimator - tree with best hyperparameters\n",
    "\n",
    "tree1_best_estimator.fit(x_train, y_train)  # fitting the tree with optimized hyperparameters\n"
   ]
  },
  {
   "cell_type": "markdown",
   "metadata": {},
   "source": [
    "#### Performance on training and validation data"
   ]
  },
  {
   "cell_type": "code",
   "execution_count": 194,
   "metadata": {
    "execution": {
     "iopub.execute_input": "2025-07-06T19:49:57.432858Z",
     "iopub.status.busy": "2025-07-06T19:49:57.432626Z",
     "iopub.status.idle": "2025-07-06T19:49:57.441295Z",
     "shell.execute_reply": "2025-07-06T19:49:57.440497Z",
     "shell.execute_reply.started": "2025-07-06T19:49:57.432839Z"
    },
    "trusted": true
   },
   "outputs": [
    {
     "data": {
      "text/plain": [
       "0.8295254833040422"
      ]
     },
     "execution_count": 194,
     "metadata": {},
     "output_type": "execute_result"
    }
   ],
   "source": [
    "train_pred1 = tree1_best_estimator.predict(x_train)\n",
    "accuracy_score(y_train, train_pred1)"
   ]
  },
  {
   "cell_type": "code",
   "execution_count": 195,
   "metadata": {
    "execution": {
     "iopub.execute_input": "2025-07-06T19:49:57.442363Z",
     "iopub.status.busy": "2025-07-06T19:49:57.442163Z",
     "iopub.status.idle": "2025-07-06T19:49:57.450857Z",
     "shell.execute_reply": "2025-07-06T19:49:57.449869Z",
     "shell.execute_reply.started": "2025-07-06T19:49:57.442348Z"
    },
    "trusted": true
   },
   "outputs": [
    {
     "data": {
      "text/plain": [
       "0.7902097902097902"
      ]
     },
     "execution_count": 195,
     "metadata": {},
     "output_type": "execute_result"
    }
   ],
   "source": [
    "val_pred1 = tree1_best_estimator.predict(x_val)\n",
    "accuracy_score(y_val, val_pred1)"
   ]
  },
  {
   "cell_type": "markdown",
   "metadata": {},
   "source": [
    "- validation accuracy is lower than training accuracy - model overfits slightly"
   ]
  },
  {
   "cell_type": "markdown",
   "metadata": {},
   "source": [
    "## Building and Tuning an XGBoost model"
   ]
  },
  {
   "cell_type": "markdown",
   "metadata": {},
   "source": [
    "Tuning the following hyperparameters:\n",
    "- max depth of the trees\n",
    "- learning rate\n",
    "- number of trees in the ensemble\n",
    "- minimum (hessian) instance weight of a leaf node"
   ]
  },
  {
   "cell_type": "code",
   "execution_count": 196,
   "metadata": {
    "execution": {
     "iopub.execute_input": "2025-07-06T19:49:57.452084Z",
     "iopub.status.busy": "2025-07-06T19:49:57.451852Z",
     "iopub.status.idle": "2025-07-06T19:50:29.182625Z",
     "shell.execute_reply": "2025-07-06T19:50:29.181615Z",
     "shell.execute_reply.started": "2025-07-06T19:49:57.452068Z"
    },
    "trusted": true
   },
   "outputs": [
    {
     "data": {
      "text/html": [
       "<style>#sk-container-id-5 {color: black;background-color: white;}#sk-container-id-5 pre{padding: 0;}#sk-container-id-5 div.sk-toggleable {background-color: white;}#sk-container-id-5 label.sk-toggleable__label {cursor: pointer;display: block;width: 100%;margin-bottom: 0;padding: 0.3em;box-sizing: border-box;text-align: center;}#sk-container-id-5 label.sk-toggleable__label-arrow:before {content: \"▸\";float: left;margin-right: 0.25em;color: #696969;}#sk-container-id-5 label.sk-toggleable__label-arrow:hover:before {color: black;}#sk-container-id-5 div.sk-estimator:hover label.sk-toggleable__label-arrow:before {color: black;}#sk-container-id-5 div.sk-toggleable__content {max-height: 0;max-width: 0;overflow: hidden;text-align: left;background-color: #f0f8ff;}#sk-container-id-5 div.sk-toggleable__content pre {margin: 0.2em;color: black;border-radius: 0.25em;background-color: #f0f8ff;}#sk-container-id-5 input.sk-toggleable__control:checked~div.sk-toggleable__content {max-height: 200px;max-width: 100%;overflow: auto;}#sk-container-id-5 input.sk-toggleable__control:checked~label.sk-toggleable__label-arrow:before {content: \"▾\";}#sk-container-id-5 div.sk-estimator input.sk-toggleable__control:checked~label.sk-toggleable__label {background-color: #d4ebff;}#sk-container-id-5 div.sk-label input.sk-toggleable__control:checked~label.sk-toggleable__label {background-color: #d4ebff;}#sk-container-id-5 input.sk-hidden--visually {border: 0;clip: rect(1px 1px 1px 1px);clip: rect(1px, 1px, 1px, 1px);height: 1px;margin: -1px;overflow: hidden;padding: 0;position: absolute;width: 1px;}#sk-container-id-5 div.sk-estimator {font-family: monospace;background-color: #f0f8ff;border: 1px dotted black;border-radius: 0.25em;box-sizing: border-box;margin-bottom: 0.5em;}#sk-container-id-5 div.sk-estimator:hover {background-color: #d4ebff;}#sk-container-id-5 div.sk-parallel-item::after {content: \"\";width: 100%;border-bottom: 1px solid gray;flex-grow: 1;}#sk-container-id-5 div.sk-label:hover label.sk-toggleable__label {background-color: #d4ebff;}#sk-container-id-5 div.sk-serial::before {content: \"\";position: absolute;border-left: 1px solid gray;box-sizing: border-box;top: 0;bottom: 0;left: 50%;z-index: 0;}#sk-container-id-5 div.sk-serial {display: flex;flex-direction: column;align-items: center;background-color: white;padding-right: 0.2em;padding-left: 0.2em;position: relative;}#sk-container-id-5 div.sk-item {position: relative;z-index: 1;}#sk-container-id-5 div.sk-parallel {display: flex;align-items: stretch;justify-content: center;background-color: white;position: relative;}#sk-container-id-5 div.sk-item::before, #sk-container-id-5 div.sk-parallel-item::before {content: \"\";position: absolute;border-left: 1px solid gray;box-sizing: border-box;top: 0;bottom: 0;left: 50%;z-index: -1;}#sk-container-id-5 div.sk-parallel-item {display: flex;flex-direction: column;z-index: 1;position: relative;background-color: white;}#sk-container-id-5 div.sk-parallel-item:first-child::after {align-self: flex-end;width: 50%;}#sk-container-id-5 div.sk-parallel-item:last-child::after {align-self: flex-start;width: 50%;}#sk-container-id-5 div.sk-parallel-item:only-child::after {width: 0;}#sk-container-id-5 div.sk-dashed-wrapped {border: 1px dashed gray;margin: 0 0.4em 0.5em 0.4em;box-sizing: border-box;padding-bottom: 0.4em;background-color: white;}#sk-container-id-5 div.sk-label label {font-family: monospace;font-weight: bold;display: inline-block;line-height: 1.2em;}#sk-container-id-5 div.sk-label-container {text-align: center;}#sk-container-id-5 div.sk-container {/* jupyter's `normalize.less` sets `[hidden] { display: none; }` but bootstrap.min.css set `[hidden] { display: none !important; }` so we also need the `!important` here to be able to override the default hidden behavior on the sphinx rendered scikit-learn.org. See: https://github.com/scikit-learn/scikit-learn/issues/21755 */display: inline-block !important;position: relative;}#sk-container-id-5 div.sk-text-repr-fallback {display: none;}</style><div id=\"sk-container-id-5\" class=\"sk-top-container\"><div class=\"sk-text-repr-fallback\"><pre>XGBClassifier(base_score=None, booster=None, callbacks=None,\n",
       "              colsample_bylevel=None, colsample_bynode=None,\n",
       "              colsample_bytree=None, device=None, early_stopping_rounds=None,\n",
       "              enable_categorical=False, eval_metric=None, feature_types=None,\n",
       "              gamma=None, grow_policy=None, importance_type=None,\n",
       "              interaction_constraints=None, learning_rate=0.05, max_bin=None,\n",
       "              max_cat_threshold=None, max_cat_to_onehot=None,\n",
       "              max_delta_step=None, max_depth=5, max_leaves=None,\n",
       "              min_child_weight=3, missing=nan, monotone_constraints=None,\n",
       "              multi_strategy=None, n_estimators=200, n_jobs=None,\n",
       "              num_parallel_tree=None, random_state=None, ...)</pre><b>In a Jupyter environment, please rerun this cell to show the HTML representation or trust the notebook. <br />On GitHub, the HTML representation is unable to render, please try loading this page with nbviewer.org.</b></div><div class=\"sk-container\" hidden><div class=\"sk-item\"><div class=\"sk-estimator sk-toggleable\"><input class=\"sk-toggleable__control sk-hidden--visually\" id=\"sk-estimator-id-5\" type=\"checkbox\" checked><label for=\"sk-estimator-id-5\" class=\"sk-toggleable__label sk-toggleable__label-arrow\">XGBClassifier</label><div class=\"sk-toggleable__content\"><pre>XGBClassifier(base_score=None, booster=None, callbacks=None,\n",
       "              colsample_bylevel=None, colsample_bynode=None,\n",
       "              colsample_bytree=None, device=None, early_stopping_rounds=None,\n",
       "              enable_categorical=False, eval_metric=None, feature_types=None,\n",
       "              gamma=None, grow_policy=None, importance_type=None,\n",
       "              interaction_constraints=None, learning_rate=0.05, max_bin=None,\n",
       "              max_cat_threshold=None, max_cat_to_onehot=None,\n",
       "              max_delta_step=None, max_depth=5, max_leaves=None,\n",
       "              min_child_weight=3, missing=nan, monotone_constraints=None,\n",
       "              multi_strategy=None, n_estimators=200, n_jobs=None,\n",
       "              num_parallel_tree=None, random_state=None, ...)</pre></div></div></div></div></div>"
      ],
      "text/plain": [
       "XGBClassifier(base_score=None, booster=None, callbacks=None,\n",
       "              colsample_bylevel=None, colsample_bynode=None,\n",
       "              colsample_bytree=None, device=None, early_stopping_rounds=None,\n",
       "              enable_categorical=False, eval_metric=None, feature_types=None,\n",
       "              gamma=None, grow_policy=None, importance_type=None,\n",
       "              interaction_constraints=None, learning_rate=0.05, max_bin=None,\n",
       "              max_cat_threshold=None, max_cat_to_onehot=None,\n",
       "              max_delta_step=None, max_depth=5, max_leaves=None,\n",
       "              min_child_weight=3, missing=nan, monotone_constraints=None,\n",
       "              multi_strategy=None, n_estimators=200, n_jobs=None,\n",
       "              num_parallel_tree=None, random_state=None, ...)"
      ]
     },
     "execution_count": 196,
     "metadata": {},
     "output_type": "execute_result"
    }
   ],
   "source": [
    "ensemble1 = xgb.XGBClassifier()\n",
    "\n",
    "param_grid = {\n",
    "    'max_depth': [3, 5, 7],\n",
    "    'learning_rate': [0.1, 0.01, 0.05],\n",
    "    'n_estimators': [20, 50, 100, 200],\n",
    "    'min_child_weight': [1,2,3]\n",
    "    }\n",
    "\n",
    "\n",
    "gridcv = GridSearchCV(ensemble1, param_grid, scoring = 'accuracy')\n",
    "\n",
    "gridcv = gridcv.fit(x_train, y_train) # fitting the grid search on the train data\n",
    "\n",
    "ensemble1_best_estimator = gridcv.best_estimator_  # saving the best estimator \n",
    "ensemble1_best_estimator.fit(x_train, y_train)  # fitting the model with optimized hyperparameters"
   ]
  },
  {
   "cell_type": "markdown",
   "metadata": {},
   "source": [
    "#### Performance on training and validation data"
   ]
  },
  {
   "cell_type": "code",
   "execution_count": 197,
   "metadata": {
    "execution": {
     "iopub.execute_input": "2025-07-06T19:50:29.183746Z",
     "iopub.status.busy": "2025-07-06T19:50:29.183475Z",
     "iopub.status.idle": "2025-07-06T19:50:29.195867Z",
     "shell.execute_reply": "2025-07-06T19:50:29.195301Z",
     "shell.execute_reply.started": "2025-07-06T19:50:29.183726Z"
    },
    "trusted": true
   },
   "outputs": [
    {
     "data": {
      "text/plain": [
       "0.9103690685413005"
      ]
     },
     "execution_count": 197,
     "metadata": {},
     "output_type": "execute_result"
    }
   ],
   "source": [
    "# predictions on the training data\n",
    "train_pred2 = ensemble1_best_estimator.predict(x_train)\n",
    "accuracy_score(y_train, train_pred2)"
   ]
  },
  {
   "cell_type": "markdown",
   "metadata": {},
   "source": [
    "- training accuracy is slightly higher than for the tree model above"
   ]
  },
  {
   "cell_type": "code",
   "execution_count": 198,
   "metadata": {
    "execution": {
     "iopub.execute_input": "2025-07-06T19:50:29.196686Z",
     "iopub.status.busy": "2025-07-06T19:50:29.196392Z",
     "iopub.status.idle": "2025-07-06T19:50:29.559344Z",
     "shell.execute_reply": "2025-07-06T19:50:29.558212Z",
     "shell.execute_reply.started": "2025-07-06T19:50:29.196655Z"
    },
    "trusted": true
   },
   "outputs": [
    {
     "name": "stdout",
     "output_type": "stream",
     "text": [
      "              precision    recall  f1-score   support\n",
      "\n",
      "           0       0.81      0.84      0.83        82\n",
      "           1       0.78      0.74      0.76        61\n",
      "\n",
      "    accuracy                           0.80       143\n",
      "   macro avg       0.79      0.79      0.79       143\n",
      "weighted avg       0.80      0.80      0.80       143\n",
      "\n"
     ]
    },
    {
     "data": {
      "image/png": "[encoded data removed]",
      "text/plain": [
       "<Figure size 640x480 with 2 Axes>"
      ]
     },
     "metadata": {},
     "output_type": "display_data"
    }
   ],
   "source": [
    "# predictions on the validation set\n",
    "val_pred2 = ensemble1_best_estimator.predict(x_val)\n",
    "accuracy_score(y_val, val_pred2)\n",
    "\n",
    "confusion_classification(y_val, val_pred2)"
   ]
  },
  {
   "cell_type": "markdown",
   "metadata": {},
   "source": [
    "- validation accuracy is at 80% which is a small improvement from the 79% of the simple tree model\n",
    "- precision and recall are higher for class 0 (deceased) than for class 1: the model makes fewer mistakes identifying deceased passengers and also finds more of them \n",
    "- 16 passengers are mistaken for causalties by the model and 13 passengers misclassified as survivors.\n",
    "- model overfits - accuracy on the training data does not carry over to the new validation data"
   ]
  },
  {
   "cell_type": "markdown",
   "metadata": {},
   "source": [
    "## Building and Tuning a Catboost model"
   ]
  },
  {
   "cell_type": "markdown",
   "metadata": {},
   "source": [
    "- tuning learning rate, maximum depth of the trees and the number of trees in the ensemble"
   ]
  },
  {
   "cell_type": "code",
   "execution_count": 199,
   "metadata": {
    "execution": {
     "iopub.execute_input": "2025-07-06T19:50:29.560717Z",
     "iopub.status.busy": "2025-07-06T19:50:29.560402Z",
     "iopub.status.idle": "2025-07-06T19:50:48.143768Z",
     "shell.execute_reply": "2025-07-06T19:50:48.142857Z",
     "shell.execute_reply.started": "2025-07-06T19:50:29.560696Z"
    },
    "trusted": true
   },
   "outputs": [
    {
     "data": {
      "text/plain": [
       "<catboost.core.CatBoostClassifier at 0x7ee2a81ffc90>"
      ]
     },
     "execution_count": 199,
     "metadata": {},
     "output_type": "execute_result"
    }
   ],
   "source": [
    "ensemble2 = CatBoostClassifier()\n",
    "\n",
    "param_grid = {\n",
    "    #'iterations': []\n",
    "    'learning_rate': [0.1, 0.01, 0.05],\n",
    "    'max_depth': [3, 5, 7],\n",
    "    #l2_leaf_reg':,\n",
    "    #'model_size_reg':\n",
    "    'n_estimators': [20, 50, 100, 200]\n",
    "    }\n",
    "\n",
    "gridcv = GridSearchCV(ensemble2, param_grid, scoring = 'accuracy')\n",
    "\n",
    "gridcv = gridcv.fit(x_train, y_train, verbose = 0) # fitting the grid search on the train data\n",
    "\n",
    "ensemble2_best_estimator = gridcv.best_estimator_  # saving the best estimator\n",
    "\n",
    "ensemble2_best_estimator.fit(x_train, y_train, verbose = 0)  # fitting the model with optimized hyperparameters"
   ]
  },
  {
   "cell_type": "markdown",
   "metadata": {},
   "source": [
    "#### Performance on training and validation data"
   ]
  },
  {
   "cell_type": "code",
   "execution_count": 200,
   "metadata": {
    "execution": {
     "iopub.execute_input": "2025-07-06T19:50:48.145154Z",
     "iopub.status.busy": "2025-07-06T19:50:48.144909Z",
     "iopub.status.idle": "2025-07-06T19:50:48.153589Z",
     "shell.execute_reply": "2025-07-06T19:50:48.152758Z",
     "shell.execute_reply.started": "2025-07-06T19:50:48.145136Z"
    },
    "trusted": true
   },
   "outputs": [
    {
     "data": {
      "text/plain": [
       "0.8998242530755711"
      ]
     },
     "execution_count": 200,
     "metadata": {},
     "output_type": "execute_result"
    }
   ],
   "source": [
    "train_pred3 = ensemble2_best_estimator.predict(x_train)\n",
    "accuracy_score(y_train, train_pred3)"
   ]
  },
  {
   "cell_type": "code",
   "execution_count": 201,
   "metadata": {
    "execution": {
     "iopub.execute_input": "2025-07-06T19:50:48.155326Z",
     "iopub.status.busy": "2025-07-06T19:50:48.155011Z",
     "iopub.status.idle": "2025-07-06T19:50:48.329355Z",
     "shell.execute_reply": "2025-07-06T19:50:48.328357Z",
     "shell.execute_reply.started": "2025-07-06T19:50:48.155301Z"
    },
    "trusted": true
   },
   "outputs": [
    {
     "name": "stdout",
     "output_type": "stream",
     "text": [
      "              precision    recall  f1-score   support\n",
      "\n",
      "           0       0.81      0.85      0.83        82\n",
      "           1       0.79      0.74      0.76        61\n",
      "\n",
      "    accuracy                           0.80       143\n",
      "   macro avg       0.80      0.80      0.80       143\n",
      "weighted avg       0.80      0.80      0.80       143\n",
      "\n"
     ]
    },
    {
     "data": {
      "image/png": "[encoded data removed]",
      "text/plain": [
       "<Figure size 640x480 with 2 Axes>"
      ]
     },
     "metadata": {},
     "output_type": "display_data"
    }
   ],
   "source": [
    "val_pred3 = ensemble2_best_estimator.predict(x_val)\n",
    "confusion_classification(y_val, val_pred3)"
   ]
  },
  {
   "cell_type": "markdown",
   "metadata": {},
   "source": [
    "- at 80% accuracy performance is similar to the XGBoost model\n",
    "- precision and recall are higher for class 0 (deceased) for the Catboost model as well\n",
    "- model overfits slightly as well"
   ]
  },
  {
   "cell_type": "markdown",
   "metadata": {},
   "source": [
    "# Deciding on a best model and submitting the test set results to the competition\n",
    "\n",
    "- both the XGBoost and the Catboost model have an accuracy of 80% on the validation set, so I could use either for retraining\n",
    "- choosing the Catboost classifier"
   ]
  },
  {
   "cell_type": "code",
   "execution_count": 202,
   "metadata": {
    "execution": {
     "iopub.execute_input": "2025-07-06T19:50:48.330656Z",
     "iopub.status.busy": "2025-07-06T19:50:48.330375Z",
     "iopub.status.idle": "2025-07-06T19:50:48.527651Z",
     "shell.execute_reply": "2025-07-06T19:50:48.526483Z",
     "shell.execute_reply.started": "2025-07-06T19:50:48.330636Z"
    },
    "trusted": true
   },
   "outputs": [
    {
     "name": "stdout",
     "output_type": "stream",
     "text": [
      "   PassengerId\n",
      "0          892\n",
      "1          893\n",
      "2          894\n",
      "3          895\n",
      "4          896\n",
      "5          897\n",
      "6          898\n",
      "7          899\n",
      "8          900\n",
      "9          901\n",
      "   PassengerId  Survived\n",
      "0          892         0\n",
      "1          893         0\n",
      "2          894         0\n",
      "3          895         0\n",
      "4          896         0\n",
      "5          897         0\n",
      "6          898         1\n",
      "7          899         0\n",
      "8          900         1\n",
      "9          901         0\n"
     ]
    }
   ],
   "source": [
    "ensemble2_best_estimator.fit(x, y, verbose = 0)  # fitting the model with all data\n",
    "test_pred = ensemble2_best_estimator.predict(test) # making predictions on the test dataset provided by kaggle\n",
    "\n",
    "# generating the data frame for submission\n",
    "submission = pd.DataFrame(test_matcher['PassengerId']) # fetching the passenger ids from the test matcher df created earlier\n",
    "print(submission.head(10))\n",
    "\n",
    "submission.insert(1, \"Survived\", test_pred, True) # inserting the predictions from test_pred into the submission df - predicitions are now matched to passengers\n",
    "submission[\"Survived\"] = pd.to_numeric(submission[\"Survived\"], downcast=\"integer\") # converting results to numeric\n",
    "print(submission.head(10))\n",
    "\n",
    "submission.to_csv(\"submission.csv\", index=False)"
   ]
  }
 ],
 "metadata": {
  "kaggle": {
   "accelerator": "none",
   "dataSources": [
    {
     "databundleVersionId": 26502,
     "sourceId": 3136,
     "sourceType": "competition"
    }
   ],
   "dockerImageVersionId": 31040,
   "isGpuEnabled": false,
   "isInternetEnabled": false,
   "language": "python",
   "sourceType": "notebook"
  },
  "kernelspec": {
   "display_name": "Python 3",
   "language": "python",
   "name": "python3"
  },
  "language_info": {
   "codemirror_mode": {
    "name": "ipython",
    "version": 3
   },
   "file_extension": ".py",
   "mimetype": "text/x-python",
   "name": "python",
   "nbconvert_exporter": "python",
   "pygments_lexer": "ipython3",
   "version": "3.11.11"
  }
 },
 "nbformat": 4,
 "nbformat_minor": 4
}
